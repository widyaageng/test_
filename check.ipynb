{
  "nbformat": 4,
  "nbformat_minor": 0,
  "metadata": {
    "kernelspec": {
      "display_name": "Python 3",
      "language": "python",
      "name": "python3"
    },
    "language_info": {
      "codemirror_mode": {
        "name": "ipython",
        "version": 3
      },
      "file_extension": ".py",
      "mimetype": "text/x-python",
      "name": "python",
      "nbconvert_exporter": "python",
      "pygments_lexer": "ipython3",
      "version": "3.7.7"
    },
    "colab": {
      "name": "check.ipynb",
      "provenance": [],
      "collapsed_sections": [],
      "machine_shape": "hm"
    }
  },
  "cells": [
    {
      "cell_type": "markdown",
      "metadata": {
        "id": "zj2QblYk0GA3",
        "colab_type": "text"
      },
      "source": [
        "### Testing wave and pyaudio###"
      ]
    },
    {
      "cell_type": "code",
      "metadata": {
        "scrolled": true,
        "id": "NjneMr1B0GA4",
        "colab_type": "code",
        "outputId": "77a44cc0-7bee-48c5-e6e7-d18e427d6827",
        "colab": {
          "base_uri": "https://localhost:8080/",
          "height": 85
        }
      },
      "source": [
        "!pip install pydub"
      ],
      "execution_count": 1,
      "outputs": [
        {
          "output_type": "stream",
          "text": [
            "Collecting pydub\n",
            "  Downloading https://files.pythonhosted.org/packages/79/db/eaf620b73a1eec3c8c6f8f5b0b236a50f9da88ad57802154b7ba7664d0b8/pydub-0.23.1-py2.py3-none-any.whl\n",
            "Installing collected packages: pydub\n",
            "Successfully installed pydub-0.23.1\n"
          ],
          "name": "stdout"
        }
      ]
    },
    {
      "cell_type": "code",
      "metadata": {
        "id": "e0iJMLWb1aiE",
        "colab_type": "code",
        "colab": {}
      },
      "source": [
        "from pydub import AudioSegment\n",
        "import pydub\n",
        "import numpy as np\n",
        "\n",
        "sound_path = 'test.m4a'\n",
        "audio = AudioSegment.from_file(sound_path, format=\"mp4\")"
      ],
      "execution_count": 0,
      "outputs": []
    },
    {
      "cell_type": "code",
      "metadata": {
        "id": "1nuCej7p0GA8",
        "colab_type": "code",
        "colab": {
          "base_uri": "https://localhost:8080/",
          "height": 122
        },
        "outputId": "33cfd5f8-edcf-4dbd-c9f9-afd8bfd620c9"
      },
      "source": [
        "sample_audio = audio[:10] # about 44 arrlength for each frame, array slice is in milliseconds\n",
        "print(audio.frame_count(ms=1000)) #44.1 Khz sampling, 44100 samples for 1-second long sample\n",
        "print(sample_audio.frame_count())\n",
        "test_buffer = sample_audio.get_frame(0)\n",
        "\n",
        "for i in range(1, int(sample_audio.frame_count())):\n",
        "  test_buffer += sample_audio.get_frame(i)\n",
        "\n",
        "print(test_buffer[1700:])\n",
        "print(len(test_buffer))\n",
        "print(','.join([str(by) for by in test_buffer[1700:]]))"
      ],
      "execution_count": 15,
      "outputs": [
        {
          "output_type": "stream",
          "text": [
            "44100.0\n",
            "441.0\n",
            "b'\\xff\\xff\\x00\\x00\\xff\\xff\\x00\\x00\\xff\\xff\\x00\\x00\\xff\\xff\\x00\\x00\\xff\\xff\\x00\\x00\\xff\\xff\\x00\\x00\\xff\\xff\\x00\\x00\\xff\\xff\\x00\\x00\\xff\\xff\\x00\\x00\\xff\\xff\\x00\\x00\\x00\\x00\\x00\\x00\\x00\\x00\\x00\\x00\\x00\\x00\\x00\\x00\\x00\\x00\\x00\\x00\\x00\\x00\\x00\\x00\\x00\\x00\\x00\\x00'\n",
            "1764\n",
            "255,255,0,0,255,255,0,0,255,255,0,0,255,255,0,0,255,255,0,0,255,255,0,0,255,255,0,0,255,255,0,0,255,255,0,0,255,255,0,0,0,0,0,0,0,0,0,0,0,0,0,0,0,0,0,0,0,0,0,0,0,0,0,0\n"
          ],
          "name": "stdout"
        }
      ]
    },
    {
      "cell_type": "code",
      "metadata": {
        "id": "QReoo8pf2VOc",
        "colab_type": "code",
        "outputId": "1c2db51d-8813-440d-8215-f07d11d5eff7",
        "colab": {
          "base_uri": "https://localhost:8080/",
          "height": 34
        }
      },
      "source": [
        "sample_audio.export(\"test_rest.mp4\", format=\"mp4\")"
      ],
      "execution_count": 0,
      "outputs": [
        {
          "output_type": "execute_result",
          "data": {
            "text/plain": [
              "<_io.BufferedRandom name='test_rest.mp4'>"
            ]
          },
          "metadata": {
            "tags": []
          },
          "execution_count": 22
        }
      ]
    },
    {
      "cell_type": "code",
      "metadata": {
        "id": "nONo0a2R5gHx",
        "colab_type": "code",
        "colab": {}
      },
      "source": [
        ""
      ],
      "execution_count": 0,
      "outputs": []
    }
  ]
}
