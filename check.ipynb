{
 "cells": [
  {
   "cell_type": "markdown",
   "metadata": {
    "colab_type": "text",
    "id": "zj2QblYk0GA3"
   },
   "source": [
    "### Testing wave and pyaudio###\n",
    "- Determine sampling of audio file  \n",
    "- Frame structure of the audio  \n",
    "- Useful info for slicing into x seconds audio train/valid/test data"
   ]
  },
  {
   "cell_type": "code",
   "execution_count": 115,
   "metadata": {
    "colab": {
     "base_uri": "https://localhost:8080/",
     "height": 85
    },
    "colab_type": "code",
    "id": "NjneMr1B0GA4",
    "outputId": "77a44cc0-7bee-48c5-e6e7-d18e427d6827",
    "scrolled": true
   },
   "outputs": [],
   "source": [
    "# !pip install pydub # Uncomment if doesnt have pydub package"
   ]
  },
  {
   "cell_type": "code",
   "execution_count": 2,
   "metadata": {
    "colab": {},
    "colab_type": "code",
    "id": "e0iJMLWb1aiE"
   },
   "outputs": [],
   "source": [
    "from pydub import AudioSegment\n",
    "import pydub\n",
    "import numpy as np\n",
    "\n",
    "sound_path = 'data/raw/wave1.m4a'\n",
    "audio = AudioSegment.from_file(sound_path, format=\"mp4\")"
   ]
  },
  {
   "cell_type": "markdown",
   "metadata": {},
   "source": [
    "#### Looks like for m4a sound files, each second contains 48,000 frames with each frame is two byte-long sound data. Each byte represents one bucket of digitized sound amplitude based on 8-bit ADC ####\n",
    "\n",
    "Example: sound_frame 0 = Z\\0xFF, means second sound byte has highest possible digitized sound amplitude (255=ff), 8-bit sound. Initial frame is padded with 90 as 'Z'. Sample width is at 2, showing sampling rate is 2 x frame rate = 96Khz sampling rate"
   ]
  },
  {
   "cell_type": "code",
   "execution_count": 8,
   "metadata": {},
   "outputs": [],
   "source": [
    "randidx = np.random.randint(1,len(audio)//10000 - 1)"
   ]
  },
  {
   "cell_type": "code",
   "execution_count": 9,
   "metadata": {
    "colab": {
     "base_uri": "https://localhost:8080/",
     "height": 122
    },
    "colab_type": "code",
    "id": "1nuCej7p0GA8",
    "outputId": "33cfd5f8-edcf-4dbd-c9f9-afd8bfd620c9"
   },
   "outputs": [
    {
     "name": "stdout",
     "output_type": "stream",
     "text": [
      "sample_width\t\t: 2\n",
      "frame_rate\t\t: 48000\n",
      "channels\t\t: 1\n",
      "first frame\t\t: b'4\\xfe'\n",
      "byte _data\t\t: b'4\\xfe8\\xfeC\\xfe'\n",
      "first _data\t\t: [52, 254, 56, 254, 67, 254]\n",
      "frame_width\t\t: 2\n"
     ]
    }
   ],
   "source": [
    "sample_audio = audio[randidx*10000:(randidx+1)*10000] # about 48 arrlength for each frame, array slice is in milliseconds, 1000 = 1 sec\n",
    "sample_audio_attr = vars(sample_audio)\n",
    "\n",
    "for k,v in sample_audio_attr.items():\n",
    "    if k == '_data':\n",
    "        print(f'first frame\\t\\t: {sample_audio.get_frame(0)}')\n",
    "        print(f'byte {k}\\t\\t: {v[:6]}')\n",
    "        print(f'first {k}\\t\\t: {[v[0], v[1], v[2], v[3], v[4], v[5]]}')\n",
    "    else:\n",
    "        print(f'{k}\\t\\t: {v}')\n",
    "\n",
    "\n",
    "#for i in range(1, int(sample_audio.frame_count())):\n",
    "#  test_buffer += sample_audio.get_frame(i)\n",
    "\n",
    "\n",
    "#print(len(sample_audio.get_frame(0)))\n",
    "#print(sample_audio.get_frame(0))\n",
    "#print(test_buffer[:3])\n",
    "#print(','.join([str(by) for by in test_buffer[:3]]))"
   ]
  },
  {
   "cell_type": "markdown",
   "metadata": {},
   "source": [
    "#### Exporting 10,000 milliseconds long of sample_audio ####"
   ]
  },
  {
   "cell_type": "code",
   "execution_count": 10,
   "metadata": {
    "colab": {
     "base_uri": "https://localhost:8080/",
     "height": 34
    },
    "colab_type": "code",
    "id": "QReoo8pf2VOc",
    "outputId": "1c2db51d-8813-440d-8215-f07d11d5eff7"
   },
   "outputs": [
    {
     "data": {
      "text/plain": [
       "<_io.BufferedRandom name='test_rest.mp4'>"
      ]
     },
     "execution_count": 10,
     "metadata": {},
     "output_type": "execute_result"
    }
   ],
   "source": [
    "sample_audio.export(\"test_rest.mp4\", format=\"mp4\")"
   ]
  },
  {
   "cell_type": "code",
   "execution_count": 0,
   "metadata": {
    "colab": {},
    "colab_type": "code",
    "id": "nONo0a2R5gHx"
   },
   "outputs": [],
   "source": []
  }
 ],
 "metadata": {
  "colab": {
   "collapsed_sections": [],
   "machine_shape": "hm",
   "name": "check.ipynb",
   "provenance": []
  },
  "kernelspec": {
   "display_name": "Python 3",
   "language": "python",
   "name": "python3"
  },
  "language_info": {
   "codemirror_mode": {
    "name": "ipython",
    "version": 3
   },
   "file_extension": ".py",
   "mimetype": "text/x-python",
   "name": "python",
   "nbconvert_exporter": "python",
   "pygments_lexer": "ipython3",
   "version": "3.7.7"
  }
 },
 "nbformat": 4,
 "nbformat_minor": 1
}
